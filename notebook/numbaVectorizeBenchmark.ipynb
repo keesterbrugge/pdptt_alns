{
 "cells": [
  {
   "cell_type": "markdown",
   "metadata": {},
   "source": [
    "## Numba vectorize (Ufunc) is a good idea"
   ]
  },
  {
   "cell_type": "code",
   "execution_count": null,
   "metadata": {
    "collapsed": true
   },
   "outputs": [],
   "source": [
    "import numpy as np\n",
    "import numba as nb"
   ]
  },
  {
   "cell_type": "code",
   "execution_count": null,
   "metadata": {
    "collapsed": false
   },
   "outputs": [],
   "source": [
    "n = 4000\n",
    "nLoop = 30\n",
    "a,b,c,d = [np.random.rand(n) for i in range(4)]\n",
    "\n",
    "def f(a,b,c,d, nloop):\n",
    "    out = 0\n",
    "    for i in range(nloop):\n",
    "        out += (np.sqrt(a) + b**2 - c**3)/ np.sqrt(d)\n",
    "    return out\n",
    "\n",
    "def fnpzero(a,b,c,d, nloop):\n",
    "    out = np.zeros_like(a)\n",
    "    for i in range(nloop):\n",
    "        out += (np.sqrt(a) + b**2 - c**3)/ np.sqrt(d)\n",
    "    return out\n",
    "\n",
    "def fnpzerovec(a,b,c,d, nloop):\n",
    "    out = np.float64(0.) #np.zeros_like(nloop)\n",
    "    for i in range(nloop):\n",
    "        out += (np.sqrt(a) + b**2 - c**3)/ np.sqrt(d)\n",
    "    return out\n"
   ]
  },
  {
   "cell_type": "code",
   "execution_count": null,
   "metadata": {
    "collapsed": false
   },
   "outputs": [],
   "source": [
    "fJit = nb.jit(f)\n",
    "fVec = nb.vectorize(f)\n",
    "fNpZeroJit = nb.jit(fnpzero)\n",
    "fNpZeroVec = nb.vectorize(fnpzerovec)"
   ]
  },
  {
   "cell_type": "code",
   "execution_count": null,
   "metadata": {
    "collapsed": false
   },
   "outputs": [],
   "source": [
    "print 'normal'\n",
    "%timeit f(a,b,c,d,nLoop)\n",
    "\n",
    "print '\\n normal , 0 = numpy'\n",
    "%timeit fnpzero(a,b,c,d,nLoop)\n",
    "\n",
    "print '\\n jit, 0 = python:' \n",
    "%timeit fJit(a,b,c,d,nLoop)\n",
    "\n",
    "print '\\n jit , 0 = numpy:, I think nopython = True' \n",
    "%timeit fNpZeroJit(a,b,c,d,nLoop)\n",
    "\n",
    "print '\\n vec , 0 = python:' \n",
    "%timeit fVec(a,b,c,d,nLoop)\n",
    "\n",
    "print '\\n vec , 0 = numpy:' \n",
    "%timeit fNpZeroVec(a,b,c,d,nLoop)"
   ]
  },
  {
   "cell_type": "code",
   "execution_count": null,
   "metadata": {
    "collapsed": true
   },
   "outputs": [],
   "source": []
  },
  {
   "cell_type": "code",
   "execution_count": null,
   "metadata": {
    "collapsed": true
   },
   "outputs": [],
   "source": []
  },
  {
   "cell_type": "code",
   "execution_count": null,
   "metadata": {
    "collapsed": true
   },
   "outputs": [],
   "source": []
  }
 ],
 "metadata": {
  "kernelspec": {
   "display_name": "Python 2",
   "language": "python",
   "name": "python2"
  },
  "language_info": {
   "codemirror_mode": {
    "name": "ipython",
    "version": 2
   },
   "file_extension": ".py",
   "mimetype": "text/x-python",
   "name": "python",
   "nbconvert_exporter": "python",
   "pygments_lexer": "ipython2",
   "version": "2.7.11"
  }
 },
 "nbformat": 4,
 "nbformat_minor": 0
}
